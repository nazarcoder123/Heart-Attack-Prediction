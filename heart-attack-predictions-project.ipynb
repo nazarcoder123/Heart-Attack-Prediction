{
 "cells": [
  {
   "cell_type": "code",
   "execution_count": 1,
   "id": "6dd19621",
   "metadata": {
    "execution": {
     "iopub.execute_input": "2023-03-06T20:02:49.037724Z",
     "iopub.status.busy": "2023-03-06T20:02:49.036834Z",
     "iopub.status.idle": "2023-03-06T20:02:49.048908Z",
     "shell.execute_reply": "2023-03-06T20:02:49.048089Z"
    },
    "papermill": {
     "duration": 0.024632,
     "end_time": "2023-03-06T20:02:49.051256",
     "exception": false,
     "start_time": "2023-03-06T20:02:49.026624",
     "status": "completed"
    },
    "tags": []
   },
   "outputs": [],
   "source": [
    "import numpy as np \n",
    "import pandas as pd"
   ]
  },
  {
   "cell_type": "code",
   "execution_count": 2,
   "id": "565b4cf4",
   "metadata": {
    "execution": {
     "iopub.execute_input": "2023-03-06T20:02:49.067402Z",
     "iopub.status.busy": "2023-03-06T20:02:49.066674Z",
     "iopub.status.idle": "2023-03-06T20:02:49.085700Z",
     "shell.execute_reply": "2023-03-06T20:02:49.084597Z"
    },
    "papermill": {
     "duration": 0.029746,
     "end_time": "2023-03-06T20:02:49.088231",
     "exception": false,
     "start_time": "2023-03-06T20:02:49.058485",
     "status": "completed"
    },
    "tags": []
   },
   "outputs": [],
   "source": [
    "df = pd.read_csv(\"/kaggle/input/heart-attack-analysis-prediction-dataset/heart.csv\")"
   ]
  },
  {
   "cell_type": "code",
   "execution_count": 3,
   "id": "0a1234e0",
   "metadata": {
    "execution": {
     "iopub.execute_input": "2023-03-06T20:02:49.104650Z",
     "iopub.status.busy": "2023-03-06T20:02:49.103275Z",
     "iopub.status.idle": "2023-03-06T20:02:49.131780Z",
     "shell.execute_reply": "2023-03-06T20:02:49.130551Z"
    },
    "papermill": {
     "duration": 0.040024,
     "end_time": "2023-03-06T20:02:49.135330",
     "exception": false,
     "start_time": "2023-03-06T20:02:49.095306",
     "status": "completed"
    },
    "tags": []
   },
   "outputs": [
    {
     "data": {
      "text/html": [
       "<div>\n",
       "<style scoped>\n",
       "    .dataframe tbody tr th:only-of-type {\n",
       "        vertical-align: middle;\n",
       "    }\n",
       "\n",
       "    .dataframe tbody tr th {\n",
       "        vertical-align: top;\n",
       "    }\n",
       "\n",
       "    .dataframe thead th {\n",
       "        text-align: right;\n",
       "    }\n",
       "</style>\n",
       "<table border=\"1\" class=\"dataframe\">\n",
       "  <thead>\n",
       "    <tr style=\"text-align: right;\">\n",
       "      <th></th>\n",
       "      <th>age</th>\n",
       "      <th>sex</th>\n",
       "      <th>cp</th>\n",
       "      <th>trtbps</th>\n",
       "      <th>chol</th>\n",
       "      <th>fbs</th>\n",
       "      <th>restecg</th>\n",
       "      <th>thalachh</th>\n",
       "      <th>exng</th>\n",
       "      <th>oldpeak</th>\n",
       "      <th>slp</th>\n",
       "      <th>caa</th>\n",
       "      <th>thall</th>\n",
       "      <th>output</th>\n",
       "    </tr>\n",
       "  </thead>\n",
       "  <tbody>\n",
       "    <tr>\n",
       "      <th>0</th>\n",
       "      <td>63</td>\n",
       "      <td>1</td>\n",
       "      <td>3</td>\n",
       "      <td>145</td>\n",
       "      <td>233</td>\n",
       "      <td>1</td>\n",
       "      <td>0</td>\n",
       "      <td>150</td>\n",
       "      <td>0</td>\n",
       "      <td>2.3</td>\n",
       "      <td>0</td>\n",
       "      <td>0</td>\n",
       "      <td>1</td>\n",
       "      <td>1</td>\n",
       "    </tr>\n",
       "    <tr>\n",
       "      <th>1</th>\n",
       "      <td>37</td>\n",
       "      <td>1</td>\n",
       "      <td>2</td>\n",
       "      <td>130</td>\n",
       "      <td>250</td>\n",
       "      <td>0</td>\n",
       "      <td>1</td>\n",
       "      <td>187</td>\n",
       "      <td>0</td>\n",
       "      <td>3.5</td>\n",
       "      <td>0</td>\n",
       "      <td>0</td>\n",
       "      <td>2</td>\n",
       "      <td>1</td>\n",
       "    </tr>\n",
       "    <tr>\n",
       "      <th>2</th>\n",
       "      <td>41</td>\n",
       "      <td>0</td>\n",
       "      <td>1</td>\n",
       "      <td>130</td>\n",
       "      <td>204</td>\n",
       "      <td>0</td>\n",
       "      <td>0</td>\n",
       "      <td>172</td>\n",
       "      <td>0</td>\n",
       "      <td>1.4</td>\n",
       "      <td>2</td>\n",
       "      <td>0</td>\n",
       "      <td>2</td>\n",
       "      <td>1</td>\n",
       "    </tr>\n",
       "    <tr>\n",
       "      <th>3</th>\n",
       "      <td>56</td>\n",
       "      <td>1</td>\n",
       "      <td>1</td>\n",
       "      <td>120</td>\n",
       "      <td>236</td>\n",
       "      <td>0</td>\n",
       "      <td>1</td>\n",
       "      <td>178</td>\n",
       "      <td>0</td>\n",
       "      <td>0.8</td>\n",
       "      <td>2</td>\n",
       "      <td>0</td>\n",
       "      <td>2</td>\n",
       "      <td>1</td>\n",
       "    </tr>\n",
       "    <tr>\n",
       "      <th>4</th>\n",
       "      <td>57</td>\n",
       "      <td>0</td>\n",
       "      <td>0</td>\n",
       "      <td>120</td>\n",
       "      <td>354</td>\n",
       "      <td>0</td>\n",
       "      <td>1</td>\n",
       "      <td>163</td>\n",
       "      <td>1</td>\n",
       "      <td>0.6</td>\n",
       "      <td>2</td>\n",
       "      <td>0</td>\n",
       "      <td>2</td>\n",
       "      <td>1</td>\n",
       "    </tr>\n",
       "  </tbody>\n",
       "</table>\n",
       "</div>"
      ],
      "text/plain": [
       "   age  sex  cp  trtbps  chol  fbs  restecg  thalachh  exng  oldpeak  slp  \\\n",
       "0   63    1   3     145   233    1        0       150     0      2.3    0   \n",
       "1   37    1   2     130   250    0        1       187     0      3.5    0   \n",
       "2   41    0   1     130   204    0        0       172     0      1.4    2   \n",
       "3   56    1   1     120   236    0        1       178     0      0.8    2   \n",
       "4   57    0   0     120   354    0        1       163     1      0.6    2   \n",
       "\n",
       "   caa  thall  output  \n",
       "0    0      1       1  \n",
       "1    0      2       1  \n",
       "2    0      2       1  \n",
       "3    0      2       1  \n",
       "4    0      2       1  "
      ]
     },
     "execution_count": 3,
     "metadata": {},
     "output_type": "execute_result"
    }
   ],
   "source": [
    "df.head()"
   ]
  },
  {
   "cell_type": "code",
   "execution_count": 4,
   "id": "98506486",
   "metadata": {
    "execution": {
     "iopub.execute_input": "2023-03-06T20:02:49.152785Z",
     "iopub.status.busy": "2023-03-06T20:02:49.152037Z",
     "iopub.status.idle": "2023-03-06T20:02:49.158700Z",
     "shell.execute_reply": "2023-03-06T20:02:49.157667Z"
    },
    "papermill": {
     "duration": 0.0175,
     "end_time": "2023-03-06T20:02:49.161011",
     "exception": false,
     "start_time": "2023-03-06T20:02:49.143511",
     "status": "completed"
    },
    "tags": []
   },
   "outputs": [
    {
     "data": {
      "text/plain": [
       "(303, 14)"
      ]
     },
     "execution_count": 4,
     "metadata": {},
     "output_type": "execute_result"
    }
   ],
   "source": [
    "df.shape"
   ]
  },
  {
   "cell_type": "code",
   "execution_count": 5,
   "id": "6996c96e",
   "metadata": {
    "execution": {
     "iopub.execute_input": "2023-03-06T20:02:49.177894Z",
     "iopub.status.busy": "2023-03-06T20:02:49.177119Z",
     "iopub.status.idle": "2023-03-06T20:02:49.186618Z",
     "shell.execute_reply": "2023-03-06T20:02:49.185583Z"
    },
    "papermill": {
     "duration": 0.020736,
     "end_time": "2023-03-06T20:02:49.189156",
     "exception": false,
     "start_time": "2023-03-06T20:02:49.168420",
     "status": "completed"
    },
    "tags": []
   },
   "outputs": [
    {
     "data": {
      "text/plain": [
       "age         0\n",
       "sex         0\n",
       "cp          0\n",
       "trtbps      0\n",
       "chol        0\n",
       "fbs         0\n",
       "restecg     0\n",
       "thalachh    0\n",
       "exng        0\n",
       "oldpeak     0\n",
       "slp         0\n",
       "caa         0\n",
       "thall       0\n",
       "output      0\n",
       "dtype: int64"
      ]
     },
     "execution_count": 5,
     "metadata": {},
     "output_type": "execute_result"
    }
   ],
   "source": [
    "df.isnull().sum()"
   ]
  },
  {
   "cell_type": "code",
   "execution_count": 6,
   "id": "29375ff7",
   "metadata": {
    "execution": {
     "iopub.execute_input": "2023-03-06T20:02:49.205996Z",
     "iopub.status.busy": "2023-03-06T20:02:49.205590Z",
     "iopub.status.idle": "2023-03-06T20:02:49.227416Z",
     "shell.execute_reply": "2023-03-06T20:02:49.225816Z"
    },
    "papermill": {
     "duration": 0.03401,
     "end_time": "2023-03-06T20:02:49.230687",
     "exception": false,
     "start_time": "2023-03-06T20:02:49.196677",
     "status": "completed"
    },
    "tags": []
   },
   "outputs": [
    {
     "name": "stdout",
     "output_type": "stream",
     "text": [
      "<class 'pandas.core.frame.DataFrame'>\n",
      "RangeIndex: 303 entries, 0 to 302\n",
      "Data columns (total 14 columns):\n",
      " #   Column    Non-Null Count  Dtype  \n",
      "---  ------    --------------  -----  \n",
      " 0   age       303 non-null    int64  \n",
      " 1   sex       303 non-null    int64  \n",
      " 2   cp        303 non-null    int64  \n",
      " 3   trtbps    303 non-null    int64  \n",
      " 4   chol      303 non-null    int64  \n",
      " 5   fbs       303 non-null    int64  \n",
      " 6   restecg   303 non-null    int64  \n",
      " 7   thalachh  303 non-null    int64  \n",
      " 8   exng      303 non-null    int64  \n",
      " 9   oldpeak   303 non-null    float64\n",
      " 10  slp       303 non-null    int64  \n",
      " 11  caa       303 non-null    int64  \n",
      " 12  thall     303 non-null    int64  \n",
      " 13  output    303 non-null    int64  \n",
      "dtypes: float64(1), int64(13)\n",
      "memory usage: 33.3 KB\n"
     ]
    }
   ],
   "source": [
    "df.info()"
   ]
  },
  {
   "cell_type": "code",
   "execution_count": 7,
   "id": "3cbbc862",
   "metadata": {
    "execution": {
     "iopub.execute_input": "2023-03-06T20:02:49.252556Z",
     "iopub.status.busy": "2023-03-06T20:02:49.252110Z",
     "iopub.status.idle": "2023-03-06T20:02:49.282309Z",
     "shell.execute_reply": "2023-03-06T20:02:49.280976Z"
    },
    "papermill": {
     "duration": 0.045721,
     "end_time": "2023-03-06T20:02:49.285966",
     "exception": false,
     "start_time": "2023-03-06T20:02:49.240245",
     "status": "completed"
    },
    "tags": []
   },
   "outputs": [
    {
     "data": {
      "text/html": [
       "<div>\n",
       "<style scoped>\n",
       "    .dataframe tbody tr th:only-of-type {\n",
       "        vertical-align: middle;\n",
       "    }\n",
       "\n",
       "    .dataframe tbody tr th {\n",
       "        vertical-align: top;\n",
       "    }\n",
       "\n",
       "    .dataframe thead th {\n",
       "        text-align: right;\n",
       "    }\n",
       "</style>\n",
       "<table border=\"1\" class=\"dataframe\">\n",
       "  <thead>\n",
       "    <tr style=\"text-align: right;\">\n",
       "      <th></th>\n",
       "      <th>age</th>\n",
       "      <th>sex</th>\n",
       "      <th>cp</th>\n",
       "      <th>trtbps</th>\n",
       "      <th>chol</th>\n",
       "      <th>fbs</th>\n",
       "      <th>restecg</th>\n",
       "      <th>thalachh</th>\n",
       "      <th>exng</th>\n",
       "      <th>oldpeak</th>\n",
       "      <th>slp</th>\n",
       "      <th>caa</th>\n",
       "      <th>thall</th>\n",
       "      <th>output</th>\n",
       "    </tr>\n",
       "  </thead>\n",
       "  <tbody>\n",
       "    <tr>\n",
       "      <th>age</th>\n",
       "      <td>1.000000</td>\n",
       "      <td>-0.098447</td>\n",
       "      <td>-0.068653</td>\n",
       "      <td>0.279351</td>\n",
       "      <td>0.213678</td>\n",
       "      <td>0.121308</td>\n",
       "      <td>-0.116211</td>\n",
       "      <td>-0.398522</td>\n",
       "      <td>0.096801</td>\n",
       "      <td>0.210013</td>\n",
       "      <td>-0.168814</td>\n",
       "      <td>0.276326</td>\n",
       "      <td>0.068001</td>\n",
       "      <td>-0.225439</td>\n",
       "    </tr>\n",
       "    <tr>\n",
       "      <th>sex</th>\n",
       "      <td>-0.098447</td>\n",
       "      <td>1.000000</td>\n",
       "      <td>-0.049353</td>\n",
       "      <td>-0.056769</td>\n",
       "      <td>-0.197912</td>\n",
       "      <td>0.045032</td>\n",
       "      <td>-0.058196</td>\n",
       "      <td>-0.044020</td>\n",
       "      <td>0.141664</td>\n",
       "      <td>0.096093</td>\n",
       "      <td>-0.030711</td>\n",
       "      <td>0.118261</td>\n",
       "      <td>0.210041</td>\n",
       "      <td>-0.280937</td>\n",
       "    </tr>\n",
       "    <tr>\n",
       "      <th>cp</th>\n",
       "      <td>-0.068653</td>\n",
       "      <td>-0.049353</td>\n",
       "      <td>1.000000</td>\n",
       "      <td>0.047608</td>\n",
       "      <td>-0.076904</td>\n",
       "      <td>0.094444</td>\n",
       "      <td>0.044421</td>\n",
       "      <td>0.295762</td>\n",
       "      <td>-0.394280</td>\n",
       "      <td>-0.149230</td>\n",
       "      <td>0.119717</td>\n",
       "      <td>-0.181053</td>\n",
       "      <td>-0.161736</td>\n",
       "      <td>0.433798</td>\n",
       "    </tr>\n",
       "    <tr>\n",
       "      <th>trtbps</th>\n",
       "      <td>0.279351</td>\n",
       "      <td>-0.056769</td>\n",
       "      <td>0.047608</td>\n",
       "      <td>1.000000</td>\n",
       "      <td>0.123174</td>\n",
       "      <td>0.177531</td>\n",
       "      <td>-0.114103</td>\n",
       "      <td>-0.046698</td>\n",
       "      <td>0.067616</td>\n",
       "      <td>0.193216</td>\n",
       "      <td>-0.121475</td>\n",
       "      <td>0.101389</td>\n",
       "      <td>0.062210</td>\n",
       "      <td>-0.144931</td>\n",
       "    </tr>\n",
       "    <tr>\n",
       "      <th>chol</th>\n",
       "      <td>0.213678</td>\n",
       "      <td>-0.197912</td>\n",
       "      <td>-0.076904</td>\n",
       "      <td>0.123174</td>\n",
       "      <td>1.000000</td>\n",
       "      <td>0.013294</td>\n",
       "      <td>-0.151040</td>\n",
       "      <td>-0.009940</td>\n",
       "      <td>0.067023</td>\n",
       "      <td>0.053952</td>\n",
       "      <td>-0.004038</td>\n",
       "      <td>0.070511</td>\n",
       "      <td>0.098803</td>\n",
       "      <td>-0.085239</td>\n",
       "    </tr>\n",
       "    <tr>\n",
       "      <th>fbs</th>\n",
       "      <td>0.121308</td>\n",
       "      <td>0.045032</td>\n",
       "      <td>0.094444</td>\n",
       "      <td>0.177531</td>\n",
       "      <td>0.013294</td>\n",
       "      <td>1.000000</td>\n",
       "      <td>-0.084189</td>\n",
       "      <td>-0.008567</td>\n",
       "      <td>0.025665</td>\n",
       "      <td>0.005747</td>\n",
       "      <td>-0.059894</td>\n",
       "      <td>0.137979</td>\n",
       "      <td>-0.032019</td>\n",
       "      <td>-0.028046</td>\n",
       "    </tr>\n",
       "    <tr>\n",
       "      <th>restecg</th>\n",
       "      <td>-0.116211</td>\n",
       "      <td>-0.058196</td>\n",
       "      <td>0.044421</td>\n",
       "      <td>-0.114103</td>\n",
       "      <td>-0.151040</td>\n",
       "      <td>-0.084189</td>\n",
       "      <td>1.000000</td>\n",
       "      <td>0.044123</td>\n",
       "      <td>-0.070733</td>\n",
       "      <td>-0.058770</td>\n",
       "      <td>0.093045</td>\n",
       "      <td>-0.072042</td>\n",
       "      <td>-0.011981</td>\n",
       "      <td>0.137230</td>\n",
       "    </tr>\n",
       "    <tr>\n",
       "      <th>thalachh</th>\n",
       "      <td>-0.398522</td>\n",
       "      <td>-0.044020</td>\n",
       "      <td>0.295762</td>\n",
       "      <td>-0.046698</td>\n",
       "      <td>-0.009940</td>\n",
       "      <td>-0.008567</td>\n",
       "      <td>0.044123</td>\n",
       "      <td>1.000000</td>\n",
       "      <td>-0.378812</td>\n",
       "      <td>-0.344187</td>\n",
       "      <td>0.386784</td>\n",
       "      <td>-0.213177</td>\n",
       "      <td>-0.096439</td>\n",
       "      <td>0.421741</td>\n",
       "    </tr>\n",
       "    <tr>\n",
       "      <th>exng</th>\n",
       "      <td>0.096801</td>\n",
       "      <td>0.141664</td>\n",
       "      <td>-0.394280</td>\n",
       "      <td>0.067616</td>\n",
       "      <td>0.067023</td>\n",
       "      <td>0.025665</td>\n",
       "      <td>-0.070733</td>\n",
       "      <td>-0.378812</td>\n",
       "      <td>1.000000</td>\n",
       "      <td>0.288223</td>\n",
       "      <td>-0.257748</td>\n",
       "      <td>0.115739</td>\n",
       "      <td>0.206754</td>\n",
       "      <td>-0.436757</td>\n",
       "    </tr>\n",
       "    <tr>\n",
       "      <th>oldpeak</th>\n",
       "      <td>0.210013</td>\n",
       "      <td>0.096093</td>\n",
       "      <td>-0.149230</td>\n",
       "      <td>0.193216</td>\n",
       "      <td>0.053952</td>\n",
       "      <td>0.005747</td>\n",
       "      <td>-0.058770</td>\n",
       "      <td>-0.344187</td>\n",
       "      <td>0.288223</td>\n",
       "      <td>1.000000</td>\n",
       "      <td>-0.577537</td>\n",
       "      <td>0.222682</td>\n",
       "      <td>0.210244</td>\n",
       "      <td>-0.430696</td>\n",
       "    </tr>\n",
       "    <tr>\n",
       "      <th>slp</th>\n",
       "      <td>-0.168814</td>\n",
       "      <td>-0.030711</td>\n",
       "      <td>0.119717</td>\n",
       "      <td>-0.121475</td>\n",
       "      <td>-0.004038</td>\n",
       "      <td>-0.059894</td>\n",
       "      <td>0.093045</td>\n",
       "      <td>0.386784</td>\n",
       "      <td>-0.257748</td>\n",
       "      <td>-0.577537</td>\n",
       "      <td>1.000000</td>\n",
       "      <td>-0.080155</td>\n",
       "      <td>-0.104764</td>\n",
       "      <td>0.345877</td>\n",
       "    </tr>\n",
       "    <tr>\n",
       "      <th>caa</th>\n",
       "      <td>0.276326</td>\n",
       "      <td>0.118261</td>\n",
       "      <td>-0.181053</td>\n",
       "      <td>0.101389</td>\n",
       "      <td>0.070511</td>\n",
       "      <td>0.137979</td>\n",
       "      <td>-0.072042</td>\n",
       "      <td>-0.213177</td>\n",
       "      <td>0.115739</td>\n",
       "      <td>0.222682</td>\n",
       "      <td>-0.080155</td>\n",
       "      <td>1.000000</td>\n",
       "      <td>0.151832</td>\n",
       "      <td>-0.391724</td>\n",
       "    </tr>\n",
       "    <tr>\n",
       "      <th>thall</th>\n",
       "      <td>0.068001</td>\n",
       "      <td>0.210041</td>\n",
       "      <td>-0.161736</td>\n",
       "      <td>0.062210</td>\n",
       "      <td>0.098803</td>\n",
       "      <td>-0.032019</td>\n",
       "      <td>-0.011981</td>\n",
       "      <td>-0.096439</td>\n",
       "      <td>0.206754</td>\n",
       "      <td>0.210244</td>\n",
       "      <td>-0.104764</td>\n",
       "      <td>0.151832</td>\n",
       "      <td>1.000000</td>\n",
       "      <td>-0.344029</td>\n",
       "    </tr>\n",
       "    <tr>\n",
       "      <th>output</th>\n",
       "      <td>-0.225439</td>\n",
       "      <td>-0.280937</td>\n",
       "      <td>0.433798</td>\n",
       "      <td>-0.144931</td>\n",
       "      <td>-0.085239</td>\n",
       "      <td>-0.028046</td>\n",
       "      <td>0.137230</td>\n",
       "      <td>0.421741</td>\n",
       "      <td>-0.436757</td>\n",
       "      <td>-0.430696</td>\n",
       "      <td>0.345877</td>\n",
       "      <td>-0.391724</td>\n",
       "      <td>-0.344029</td>\n",
       "      <td>1.000000</td>\n",
       "    </tr>\n",
       "  </tbody>\n",
       "</table>\n",
       "</div>"
      ],
      "text/plain": [
       "               age       sex        cp    trtbps      chol       fbs  \\\n",
       "age       1.000000 -0.098447 -0.068653  0.279351  0.213678  0.121308   \n",
       "sex      -0.098447  1.000000 -0.049353 -0.056769 -0.197912  0.045032   \n",
       "cp       -0.068653 -0.049353  1.000000  0.047608 -0.076904  0.094444   \n",
       "trtbps    0.279351 -0.056769  0.047608  1.000000  0.123174  0.177531   \n",
       "chol      0.213678 -0.197912 -0.076904  0.123174  1.000000  0.013294   \n",
       "fbs       0.121308  0.045032  0.094444  0.177531  0.013294  1.000000   \n",
       "restecg  -0.116211 -0.058196  0.044421 -0.114103 -0.151040 -0.084189   \n",
       "thalachh -0.398522 -0.044020  0.295762 -0.046698 -0.009940 -0.008567   \n",
       "exng      0.096801  0.141664 -0.394280  0.067616  0.067023  0.025665   \n",
       "oldpeak   0.210013  0.096093 -0.149230  0.193216  0.053952  0.005747   \n",
       "slp      -0.168814 -0.030711  0.119717 -0.121475 -0.004038 -0.059894   \n",
       "caa       0.276326  0.118261 -0.181053  0.101389  0.070511  0.137979   \n",
       "thall     0.068001  0.210041 -0.161736  0.062210  0.098803 -0.032019   \n",
       "output   -0.225439 -0.280937  0.433798 -0.144931 -0.085239 -0.028046   \n",
       "\n",
       "           restecg  thalachh      exng   oldpeak       slp       caa  \\\n",
       "age      -0.116211 -0.398522  0.096801  0.210013 -0.168814  0.276326   \n",
       "sex      -0.058196 -0.044020  0.141664  0.096093 -0.030711  0.118261   \n",
       "cp        0.044421  0.295762 -0.394280 -0.149230  0.119717 -0.181053   \n",
       "trtbps   -0.114103 -0.046698  0.067616  0.193216 -0.121475  0.101389   \n",
       "chol     -0.151040 -0.009940  0.067023  0.053952 -0.004038  0.070511   \n",
       "fbs      -0.084189 -0.008567  0.025665  0.005747 -0.059894  0.137979   \n",
       "restecg   1.000000  0.044123 -0.070733 -0.058770  0.093045 -0.072042   \n",
       "thalachh  0.044123  1.000000 -0.378812 -0.344187  0.386784 -0.213177   \n",
       "exng     -0.070733 -0.378812  1.000000  0.288223 -0.257748  0.115739   \n",
       "oldpeak  -0.058770 -0.344187  0.288223  1.000000 -0.577537  0.222682   \n",
       "slp       0.093045  0.386784 -0.257748 -0.577537  1.000000 -0.080155   \n",
       "caa      -0.072042 -0.213177  0.115739  0.222682 -0.080155  1.000000   \n",
       "thall    -0.011981 -0.096439  0.206754  0.210244 -0.104764  0.151832   \n",
       "output    0.137230  0.421741 -0.436757 -0.430696  0.345877 -0.391724   \n",
       "\n",
       "             thall    output  \n",
       "age       0.068001 -0.225439  \n",
       "sex       0.210041 -0.280937  \n",
       "cp       -0.161736  0.433798  \n",
       "trtbps    0.062210 -0.144931  \n",
       "chol      0.098803 -0.085239  \n",
       "fbs      -0.032019 -0.028046  \n",
       "restecg  -0.011981  0.137230  \n",
       "thalachh -0.096439  0.421741  \n",
       "exng      0.206754 -0.436757  \n",
       "oldpeak   0.210244 -0.430696  \n",
       "slp      -0.104764  0.345877  \n",
       "caa       0.151832 -0.391724  \n",
       "thall     1.000000 -0.344029  \n",
       "output   -0.344029  1.000000  "
      ]
     },
     "execution_count": 7,
     "metadata": {},
     "output_type": "execute_result"
    }
   ],
   "source": [
    "df.corr()"
   ]
  },
  {
   "cell_type": "code",
   "execution_count": 8,
   "id": "20373733",
   "metadata": {
    "execution": {
     "iopub.execute_input": "2023-03-06T20:02:49.308985Z",
     "iopub.status.busy": "2023-03-06T20:02:49.308485Z",
     "iopub.status.idle": "2023-03-06T20:02:49.315959Z",
     "shell.execute_reply": "2023-03-06T20:02:49.314835Z"
    },
    "papermill": {
     "duration": 0.019436,
     "end_time": "2023-03-06T20:02:49.318252",
     "exception": false,
     "start_time": "2023-03-06T20:02:49.298816",
     "status": "completed"
    },
    "tags": []
   },
   "outputs": [],
   "source": [
    "x = df.iloc[:,0:13]\n",
    "y = df.iloc[:,-1]"
   ]
  },
  {
   "cell_type": "code",
   "execution_count": 9,
   "id": "0a75fa3f",
   "metadata": {
    "execution": {
     "iopub.execute_input": "2023-03-06T20:02:49.336505Z",
     "iopub.status.busy": "2023-03-06T20:02:49.335877Z",
     "iopub.status.idle": "2023-03-06T20:02:50.258779Z",
     "shell.execute_reply": "2023-03-06T20:02:50.257538Z"
    },
    "papermill": {
     "duration": 0.935192,
     "end_time": "2023-03-06T20:02:50.261498",
     "exception": false,
     "start_time": "2023-03-06T20:02:49.326306",
     "status": "completed"
    },
    "tags": []
   },
   "outputs": [],
   "source": [
    "from sklearn.model_selection import train_test_split\n",
    "x_train,x_test,y_train,y_test = train_test_split(x,y,test_size=0.3,random_state=42)"
   ]
  },
  {
   "cell_type": "code",
   "execution_count": 10,
   "id": "bbfa4a2c",
   "metadata": {
    "execution": {
     "iopub.execute_input": "2023-03-06T20:02:50.280500Z",
     "iopub.status.busy": "2023-03-06T20:02:50.280064Z",
     "iopub.status.idle": "2023-03-06T20:02:50.284642Z",
     "shell.execute_reply": "2023-03-06T20:02:50.283427Z"
    },
    "papermill": {
     "duration": 0.017284,
     "end_time": "2023-03-06T20:02:50.286930",
     "exception": false,
     "start_time": "2023-03-06T20:02:50.269646",
     "status": "completed"
    },
    "tags": []
   },
   "outputs": [],
   "source": [
    "from sklearn.preprocessing import StandardScaler"
   ]
  },
  {
   "cell_type": "code",
   "execution_count": 11,
   "id": "9695c849",
   "metadata": {
    "execution": {
     "iopub.execute_input": "2023-03-06T20:02:50.305934Z",
     "iopub.status.busy": "2023-03-06T20:02:50.305552Z",
     "iopub.status.idle": "2023-03-06T20:02:50.309815Z",
     "shell.execute_reply": "2023-03-06T20:02:50.308685Z"
    },
    "papermill": {
     "duration": 0.016986,
     "end_time": "2023-03-06T20:02:50.312420",
     "exception": false,
     "start_time": "2023-03-06T20:02:50.295434",
     "status": "completed"
    },
    "tags": []
   },
   "outputs": [],
   "source": [
    "ss = StandardScaler()"
   ]
  },
  {
   "cell_type": "code",
   "execution_count": 12,
   "id": "5f644a0e",
   "metadata": {
    "execution": {
     "iopub.execute_input": "2023-03-06T20:02:50.331067Z",
     "iopub.status.busy": "2023-03-06T20:02:50.330676Z",
     "iopub.status.idle": "2023-03-06T20:02:50.343075Z",
     "shell.execute_reply": "2023-03-06T20:02:50.341963Z"
    },
    "papermill": {
     "duration": 0.025067,
     "end_time": "2023-03-06T20:02:50.345774",
     "exception": false,
     "start_time": "2023-03-06T20:02:50.320707",
     "status": "completed"
    },
    "tags": []
   },
   "outputs": [],
   "source": [
    "x_train = ss.fit_transform(x_train)\n",
    "x_test = ss.transform(x_test)"
   ]
  },
  {
   "cell_type": "code",
   "execution_count": 13,
   "id": "9bad7b30",
   "metadata": {
    "execution": {
     "iopub.execute_input": "2023-03-06T20:02:50.363651Z",
     "iopub.status.busy": "2023-03-06T20:02:50.363225Z",
     "iopub.status.idle": "2023-03-06T20:02:50.367949Z",
     "shell.execute_reply": "2023-03-06T20:02:50.366848Z"
    },
    "papermill": {
     "duration": 0.016159,
     "end_time": "2023-03-06T20:02:50.370017",
     "exception": false,
     "start_time": "2023-03-06T20:02:50.353858",
     "status": "completed"
    },
    "tags": []
   },
   "outputs": [],
   "source": [
    "x_train_ss = x_train\n",
    "x_test_ss = x_test"
   ]
  },
  {
   "cell_type": "code",
   "execution_count": 14,
   "id": "c2e1b8d6",
   "metadata": {
    "execution": {
     "iopub.execute_input": "2023-03-06T20:02:50.387994Z",
     "iopub.status.busy": "2023-03-06T20:02:50.387598Z",
     "iopub.status.idle": "2023-03-06T20:02:50.461392Z",
     "shell.execute_reply": "2023-03-06T20:02:50.460469Z"
    },
    "papermill": {
     "duration": 0.085952,
     "end_time": "2023-03-06T20:02:50.464077",
     "exception": false,
     "start_time": "2023-03-06T20:02:50.378125",
     "status": "completed"
    },
    "tags": []
   },
   "outputs": [],
   "source": [
    "from sklearn.linear_model import LogisticRegression"
   ]
  },
  {
   "cell_type": "code",
   "execution_count": 15,
   "id": "6c896ec0",
   "metadata": {
    "execution": {
     "iopub.execute_input": "2023-03-06T20:02:50.482424Z",
     "iopub.status.busy": "2023-03-06T20:02:50.481558Z",
     "iopub.status.idle": "2023-03-06T20:02:50.486656Z",
     "shell.execute_reply": "2023-03-06T20:02:50.485540Z"
    },
    "papermill": {
     "duration": 0.016611,
     "end_time": "2023-03-06T20:02:50.488894",
     "exception": false,
     "start_time": "2023-03-06T20:02:50.472283",
     "status": "completed"
    },
    "tags": []
   },
   "outputs": [],
   "source": [
    "lr = LogisticRegression()"
   ]
  },
  {
   "cell_type": "code",
   "execution_count": 16,
   "id": "431e6ace",
   "metadata": {
    "execution": {
     "iopub.execute_input": "2023-03-06T20:02:50.506086Z",
     "iopub.status.busy": "2023-03-06T20:02:50.505780Z",
     "iopub.status.idle": "2023-03-06T20:02:50.526087Z",
     "shell.execute_reply": "2023-03-06T20:02:50.525155Z"
    },
    "papermill": {
     "duration": 0.031508,
     "end_time": "2023-03-06T20:02:50.528218",
     "exception": false,
     "start_time": "2023-03-06T20:02:50.496710",
     "status": "completed"
    },
    "tags": []
   },
   "outputs": [
    {
     "data": {
      "text/plain": [
       "LogisticRegression()"
      ]
     },
     "execution_count": 16,
     "metadata": {},
     "output_type": "execute_result"
    }
   ],
   "source": [
    "lr.fit(x_train_ss,y_train)"
   ]
  },
  {
   "cell_type": "code",
   "execution_count": 17,
   "id": "63844fac",
   "metadata": {
    "execution": {
     "iopub.execute_input": "2023-03-06T20:02:50.546167Z",
     "iopub.status.busy": "2023-03-06T20:02:50.545810Z",
     "iopub.status.idle": "2023-03-06T20:02:50.553565Z",
     "shell.execute_reply": "2023-03-06T20:02:50.552393Z"
    },
    "papermill": {
     "duration": 0.019343,
     "end_time": "2023-03-06T20:02:50.555779",
     "exception": false,
     "start_time": "2023-03-06T20:02:50.536436",
     "status": "completed"
    },
    "tags": []
   },
   "outputs": [
    {
     "data": {
      "text/plain": [
       "array([0, 1, 1, 0, 1, 1, 1, 0, 0, 0, 1, 0, 1, 0, 1, 1, 1, 0, 0, 0, 1, 0,\n",
       "       0, 1, 1, 1, 1, 1, 0, 1, 0, 0, 0, 0, 1, 0, 1, 1, 1, 1, 0, 1, 1, 1,\n",
       "       1, 0, 1, 1, 0, 0, 0, 0, 1, 1, 0, 0, 0, 1, 0, 0, 0, 1, 0, 1, 1, 0,\n",
       "       1, 1, 1, 1, 1, 1, 1, 1, 0, 1, 1, 1, 0, 0, 0, 0, 1, 1, 1, 0, 0, 1,\n",
       "       1, 0, 1])"
      ]
     },
     "execution_count": 17,
     "metadata": {},
     "output_type": "execute_result"
    }
   ],
   "source": [
    "lr.predict(x_test_ss)"
   ]
  },
  {
   "cell_type": "code",
   "execution_count": 18,
   "id": "9ac16630",
   "metadata": {
    "execution": {
     "iopub.execute_input": "2023-03-06T20:02:50.573865Z",
     "iopub.status.busy": "2023-03-06T20:02:50.573157Z",
     "iopub.status.idle": "2023-03-06T20:02:50.578491Z",
     "shell.execute_reply": "2023-03-06T20:02:50.577500Z"
    },
    "papermill": {
     "duration": 0.017239,
     "end_time": "2023-03-06T20:02:50.581103",
     "exception": false,
     "start_time": "2023-03-06T20:02:50.563864",
     "status": "completed"
    },
    "tags": []
   },
   "outputs": [],
   "source": [
    "y_pred = lr.predict(x_test_ss)"
   ]
  },
  {
   "cell_type": "code",
   "execution_count": 19,
   "id": "385bf012",
   "metadata": {
    "execution": {
     "iopub.execute_input": "2023-03-06T20:02:50.599294Z",
     "iopub.status.busy": "2023-03-06T20:02:50.598609Z",
     "iopub.status.idle": "2023-03-06T20:02:50.603132Z",
     "shell.execute_reply": "2023-03-06T20:02:50.602285Z"
    },
    "papermill": {
     "duration": 0.016028,
     "end_time": "2023-03-06T20:02:50.605450",
     "exception": false,
     "start_time": "2023-03-06T20:02:50.589422",
     "status": "completed"
    },
    "tags": []
   },
   "outputs": [],
   "source": [
    "from sklearn.metrics import accuracy_score"
   ]
  },
  {
   "cell_type": "code",
   "execution_count": 20,
   "id": "3f8f68e5",
   "metadata": {
    "execution": {
     "iopub.execute_input": "2023-03-06T20:02:50.623573Z",
     "iopub.status.busy": "2023-03-06T20:02:50.623158Z",
     "iopub.status.idle": "2023-03-06T20:02:50.630749Z",
     "shell.execute_reply": "2023-03-06T20:02:50.629705Z"
    },
    "papermill": {
     "duration": 0.01914,
     "end_time": "2023-03-06T20:02:50.632941",
     "exception": false,
     "start_time": "2023-03-06T20:02:50.613801",
     "status": "completed"
    },
    "tags": []
   },
   "outputs": [
    {
     "data": {
      "text/plain": [
       "0.8131868131868132"
      ]
     },
     "execution_count": 20,
     "metadata": {},
     "output_type": "execute_result"
    }
   ],
   "source": [
    "accuracy_score(y_pred,y_test)"
   ]
  },
  {
   "cell_type": "code",
   "execution_count": 21,
   "id": "f031d11b",
   "metadata": {
    "execution": {
     "iopub.execute_input": "2023-03-06T20:02:50.651108Z",
     "iopub.status.busy": "2023-03-06T20:02:50.650809Z",
     "iopub.status.idle": "2023-03-06T20:02:50.655223Z",
     "shell.execute_reply": "2023-03-06T20:02:50.654260Z"
    },
    "papermill": {
     "duration": 0.016409,
     "end_time": "2023-03-06T20:02:50.657451",
     "exception": false,
     "start_time": "2023-03-06T20:02:50.641042",
     "status": "completed"
    },
    "tags": []
   },
   "outputs": [],
   "source": [
    "from sklearn.model_selection import cross_val_score"
   ]
  },
  {
   "cell_type": "code",
   "execution_count": 22,
   "id": "d18f4a22",
   "metadata": {
    "execution": {
     "iopub.execute_input": "2023-03-06T20:02:50.675630Z",
     "iopub.status.busy": "2023-03-06T20:02:50.674860Z",
     "iopub.status.idle": "2023-03-06T20:02:50.709060Z",
     "shell.execute_reply": "2023-03-06T20:02:50.707867Z"
    },
    "papermill": {
     "duration": 0.045821,
     "end_time": "2023-03-06T20:02:50.711254",
     "exception": false,
     "start_time": "2023-03-06T20:02:50.665433",
     "status": "completed"
    },
    "tags": []
   },
   "outputs": [
    {
     "data": {
      "text/plain": [
       "0.8110741971207087"
      ]
     },
     "execution_count": 22,
     "metadata": {},
     "output_type": "execute_result"
    }
   ],
   "source": [
    "cross_val_score(lr,x_train_ss,y_train,scoring='accuracy').mean()"
   ]
  },
  {
   "cell_type": "code",
   "execution_count": 23,
   "id": "6072302e",
   "metadata": {
    "execution": {
     "iopub.execute_input": "2023-03-06T20:02:50.730443Z",
     "iopub.status.busy": "2023-03-06T20:02:50.729685Z",
     "iopub.status.idle": "2023-03-06T20:02:50.860862Z",
     "shell.execute_reply": "2023-03-06T20:02:50.859626Z"
    },
    "papermill": {
     "duration": 0.143777,
     "end_time": "2023-03-06T20:02:50.863617",
     "exception": false,
     "start_time": "2023-03-06T20:02:50.719840",
     "status": "completed"
    },
    "tags": []
   },
   "outputs": [],
   "source": [
    "# Now lets perform with decisionTreeClassifier\n",
    "from sklearn.tree import DecisionTreeClassifier"
   ]
  },
  {
   "cell_type": "code",
   "execution_count": 24,
   "id": "2863d86d",
   "metadata": {
    "execution": {
     "iopub.execute_input": "2023-03-06T20:02:50.887095Z",
     "iopub.status.busy": "2023-03-06T20:02:50.885820Z",
     "iopub.status.idle": "2023-03-06T20:02:50.892030Z",
     "shell.execute_reply": "2023-03-06T20:02:50.890635Z"
    },
    "papermill": {
     "duration": 0.020004,
     "end_time": "2023-03-06T20:02:50.895381",
     "exception": false,
     "start_time": "2023-03-06T20:02:50.875377",
     "status": "completed"
    },
    "tags": []
   },
   "outputs": [],
   "source": [
    "dt = DecisionTreeClassifier()"
   ]
  },
  {
   "cell_type": "code",
   "execution_count": 25,
   "id": "4f131859",
   "metadata": {
    "execution": {
     "iopub.execute_input": "2023-03-06T20:02:50.916284Z",
     "iopub.status.busy": "2023-03-06T20:02:50.915230Z",
     "iopub.status.idle": "2023-03-06T20:02:50.925854Z",
     "shell.execute_reply": "2023-03-06T20:02:50.924900Z"
    },
    "papermill": {
     "duration": 0.022687,
     "end_time": "2023-03-06T20:02:50.928212",
     "exception": false,
     "start_time": "2023-03-06T20:02:50.905525",
     "status": "completed"
    },
    "tags": []
   },
   "outputs": [
    {
     "data": {
      "text/plain": [
       "DecisionTreeClassifier()"
      ]
     },
     "execution_count": 25,
     "metadata": {},
     "output_type": "execute_result"
    }
   ],
   "source": [
    "dt.fit(x_train_ss,y_train)"
   ]
  },
  {
   "cell_type": "code",
   "execution_count": 26,
   "id": "f36595ae",
   "metadata": {
    "execution": {
     "iopub.execute_input": "2023-03-06T20:02:50.947473Z",
     "iopub.status.busy": "2023-03-06T20:02:50.946709Z",
     "iopub.status.idle": "2023-03-06T20:02:50.954250Z",
     "shell.execute_reply": "2023-03-06T20:02:50.953386Z"
    },
    "papermill": {
     "duration": 0.019667,
     "end_time": "2023-03-06T20:02:50.956533",
     "exception": false,
     "start_time": "2023-03-06T20:02:50.936866",
     "status": "completed"
    },
    "tags": []
   },
   "outputs": [
    {
     "data": {
      "text/plain": [
       "array([0, 1, 1, 0, 1, 1, 1, 0, 0, 0, 1, 0, 1, 0, 1, 1, 1, 0, 0, 0, 1, 0,\n",
       "       1, 1, 0, 0, 1, 1, 0, 1, 0, 0, 0, 0, 1, 0, 0, 0, 0, 1, 1, 1, 1, 0,\n",
       "       0, 0, 1, 1, 0, 0, 0, 0, 1, 1, 0, 0, 1, 1, 0, 0, 0, 1, 0, 1, 1, 0,\n",
       "       1, 1, 1, 1, 1, 1, 1, 1, 0, 1, 1, 0, 0, 0, 1, 0, 1, 0, 0, 1, 0, 1,\n",
       "       0, 0, 1])"
      ]
     },
     "execution_count": 26,
     "metadata": {},
     "output_type": "execute_result"
    }
   ],
   "source": [
    "dt.predict(x_test_ss)"
   ]
  },
  {
   "cell_type": "code",
   "execution_count": 27,
   "id": "5d858989",
   "metadata": {
    "execution": {
     "iopub.execute_input": "2023-03-06T20:02:50.975519Z",
     "iopub.status.busy": "2023-03-06T20:02:50.974756Z",
     "iopub.status.idle": "2023-03-06T20:02:50.979996Z",
     "shell.execute_reply": "2023-03-06T20:02:50.979221Z"
    },
    "papermill": {
     "duration": 0.017025,
     "end_time": "2023-03-06T20:02:50.982064",
     "exception": false,
     "start_time": "2023-03-06T20:02:50.965039",
     "status": "completed"
    },
    "tags": []
   },
   "outputs": [],
   "source": [
    "y_pred1 = dt.predict(x_test_ss)"
   ]
  },
  {
   "cell_type": "code",
   "execution_count": 28,
   "id": "2cd9bd3d",
   "metadata": {
    "execution": {
     "iopub.execute_input": "2023-03-06T20:02:51.001970Z",
     "iopub.status.busy": "2023-03-06T20:02:51.001259Z",
     "iopub.status.idle": "2023-03-06T20:02:51.008191Z",
     "shell.execute_reply": "2023-03-06T20:02:51.007070Z"
    },
    "papermill": {
     "duration": 0.019851,
     "end_time": "2023-03-06T20:02:51.010636",
     "exception": false,
     "start_time": "2023-03-06T20:02:50.990785",
     "status": "completed"
    },
    "tags": []
   },
   "outputs": [
    {
     "data": {
      "text/plain": [
       "0.7252747252747253"
      ]
     },
     "execution_count": 28,
     "metadata": {},
     "output_type": "execute_result"
    }
   ],
   "source": [
    "accuracy_score(y_pred1,y_test)"
   ]
  },
  {
   "cell_type": "code",
   "execution_count": 29,
   "id": "2b5d56cc",
   "metadata": {
    "execution": {
     "iopub.execute_input": "2023-03-06T20:02:51.030402Z",
     "iopub.status.busy": "2023-03-06T20:02:51.029971Z",
     "iopub.status.idle": "2023-03-06T20:02:51.049887Z",
     "shell.execute_reply": "2023-03-06T20:02:51.048778Z"
    },
    "papermill": {
     "duration": 0.032573,
     "end_time": "2023-03-06T20:02:51.052240",
     "exception": false,
     "start_time": "2023-03-06T20:02:51.019667",
     "status": "completed"
    },
    "tags": []
   },
   "outputs": [
    {
     "data": {
      "text/plain": [
       "0.7451827242524918"
      ]
     },
     "execution_count": 29,
     "metadata": {},
     "output_type": "execute_result"
    }
   ],
   "source": [
    "cross_val_score(dt,x_train_ss,y_train,scoring='accuracy').mean()"
   ]
  },
  {
   "cell_type": "code",
   "execution_count": null,
   "id": "1aa45d24",
   "metadata": {
    "papermill": {
     "duration": 0.008737,
     "end_time": "2023-03-06T20:02:51.069955",
     "exception": false,
     "start_time": "2023-03-06T20:02:51.061218",
     "status": "completed"
    },
    "tags": []
   },
   "outputs": [],
   "source": []
  }
 ],
 "metadata": {
  "kernelspec": {
   "display_name": "Python 3",
   "language": "python",
   "name": "python3"
  },
  "language_info": {
   "codemirror_mode": {
    "name": "ipython",
    "version": 3
   },
   "file_extension": ".py",
   "mimetype": "text/x-python",
   "name": "python",
   "nbconvert_exporter": "python",
   "pygments_lexer": "ipython3",
   "version": "3.7.12"
  },
  "papermill": {
   "default_parameters": {},
   "duration": 12.309945,
   "end_time": "2023-03-06T20:02:51.800170",
   "environment_variables": {},
   "exception": null,
   "input_path": "__notebook__.ipynb",
   "output_path": "__notebook__.ipynb",
   "parameters": {},
   "start_time": "2023-03-06T20:02:39.490225",
   "version": "2.4.0"
  }
 },
 "nbformat": 4,
 "nbformat_minor": 5
}
